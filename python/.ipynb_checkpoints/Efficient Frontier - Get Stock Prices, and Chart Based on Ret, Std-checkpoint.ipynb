{
 "cells": [
  {
   "cell_type": "code",
   "execution_count": 41,
   "metadata": {
    "collapsed": true
   },
   "outputs": [],
   "source": [
    "# Required python package imports\n",
    "import sqlalchemy\n",
    "import sys\n",
    "import seaborn as sns\n",
    "from sqlalchemy import create_engine, MetaData, Table, select\n",
    "import pyodbc\n",
    "import pandas as pd\n",
    "pd.set_option('display.max_columns', 500)\n",
    "pd.set_option('display.width', 500)\n",
    "import numpy\n",
    "import numpy as np\n",
    "import matplotlib.pyplot as plt\n",
    "import matplotlib as mpl\n",
    "import time \n",
    "import multiprocessing \n",
    "%matplotlib inline\n",
    "import matplotlib.image as image\n",
    "import datetime\n",
    "from yahoo_finance import Share"
   ]
  },
  {
   "cell_type": "code",
   "execution_count": 83,
   "metadata": {
    "collapsed": false
   },
   "outputs": [
    {
     "name": "stdout",
     "output_type": "stream",
     "text": [
      "SPYIWMTLTIYREEMXLUGLDIBBSHY"
     ]
    }
   ],
   "source": [
    "#tickers_ls = ['YHOO','IBM','MSFT']\n",
    "tickers_ls = ['SPY','IWM','TLT','IYR','EEM','XLU','GLD','IBB','SHY']\n",
    "px_data=pd.DataFrame() #create dataframe\n",
    "for ticker in tickers_ls:\n",
    "    print (ticker, end=\"\", flush=True),\n",
    "    px_data_raw=pd.DataFrame(Share(ticker).get_historical('2015-09-21', '2016-09-21'))\n",
    "    if len(px_data_raw)!=0:\n",
    "        px_data=px_data.append(px_data_raw)\n",
    "    px_data=px_data.reindex()"
   ]
  },
  {
   "cell_type": "code",
   "execution_count": 84,
   "metadata": {
    "collapsed": false
   },
   "outputs": [
    {
     "data": {
      "text/html": [
       "<div>\n",
       "<table border=\"1\" class=\"dataframe\">\n",
       "  <thead>\n",
       "    <tr style=\"text-align: right;\">\n",
       "      <th></th>\n",
       "      <th>Adj_Close</th>\n",
       "      <th>Close</th>\n",
       "      <th>Date</th>\n",
       "      <th>High</th>\n",
       "      <th>Low</th>\n",
       "      <th>Open</th>\n",
       "      <th>Symbol</th>\n",
       "      <th>Volume</th>\n",
       "      <th>ret</th>\n",
       "      <th>ret_tr</th>\n",
       "      <th>Ticker</th>\n",
       "      <th>Name</th>\n",
       "    </tr>\n",
       "  </thead>\n",
       "  <tbody>\n",
       "    <tr>\n",
       "      <th>253</th>\n",
       "      <td>32.992584</td>\n",
       "      <td>33.77</td>\n",
       "      <td>2015-09-21</td>\n",
       "      <td>33.91</td>\n",
       "      <td>33.639999</td>\n",
       "      <td>33.84</td>\n",
       "      <td>EEM</td>\n",
       "      <td>45318300</td>\n",
       "      <td>0.000000</td>\n",
       "      <td>1.000000</td>\n",
       "      <td>NaN</td>\n",
       "      <td>NaN</td>\n",
       "    </tr>\n",
       "    <tr>\n",
       "      <th>252</th>\n",
       "      <td>32.377086</td>\n",
       "      <td>33.139999</td>\n",
       "      <td>2015-09-22</td>\n",
       "      <td>33.169998</td>\n",
       "      <td>32.880001</td>\n",
       "      <td>33.040001</td>\n",
       "      <td>EEM</td>\n",
       "      <td>58874100</td>\n",
       "      <td>-0.018656</td>\n",
       "      <td>0.981344</td>\n",
       "      <td>NaN</td>\n",
       "      <td>NaN</td>\n",
       "    </tr>\n",
       "    <tr>\n",
       "      <th>251</th>\n",
       "      <td>31.869056</td>\n",
       "      <td>32.619999</td>\n",
       "      <td>2015-09-23</td>\n",
       "      <td>33.029999</td>\n",
       "      <td>32.599998</td>\n",
       "      <td>32.990002</td>\n",
       "      <td>EEM</td>\n",
       "      <td>44721000</td>\n",
       "      <td>-0.015691</td>\n",
       "      <td>0.984309</td>\n",
       "      <td>NaN</td>\n",
       "      <td>NaN</td>\n",
       "    </tr>\n",
       "  </tbody>\n",
       "</table>\n",
       "</div>"
      ],
      "text/plain": [
       "     Adj_Close      Close        Date       High        Low       Open Symbol    Volume       ret    ret_tr Ticker Name\n",
       "253  32.992584      33.77  2015-09-21      33.91  33.639999      33.84    EEM  45318300  0.000000  1.000000    NaN  NaN\n",
       "252  32.377086  33.139999  2015-09-22  33.169998  32.880001  33.040001    EEM  58874100 -0.018656  0.981344    NaN  NaN\n",
       "251  31.869056  32.619999  2015-09-23  33.029999  32.599998  32.990002    EEM  44721000 -0.015691  0.984309    NaN  NaN"
      ]
     },
     "execution_count": 84,
     "metadata": {},
     "output_type": "execute_result"
    }
   ],
   "source": [
    "px_data['Adj_Close']=px_data.Adj_Close.astype(float)\n",
    "px_data=px_data.sort_values(by=['Symbol','Date'])\n",
    "px_data['ret']=px_data.groupby('Symbol')['Adj_Close'].pct_change().fillna(0)\n",
    "px_data['ret_tr']=px_data.ret+1\n",
    "#x_data=px_data[px_data['ret'].notnull()]\n",
    "px_data=px_data.join(tickers_tb, on='Symbol')\n",
    "px_data.head(3)"
   ]
  },
  {
   "cell_type": "markdown",
   "metadata": {},
   "source": [
    "## Plot Data"
   ]
  },
  {
   "cell_type": "code",
   "execution_count": 85,
   "metadata": {
    "collapsed": false
   },
   "outputs": [
    {
     "data": {
      "text/plain": [
       "<matplotlib.text.Text at 0x61544da3c8>"
      ]
     },
     "execution_count": 85,
     "metadata": {},
     "output_type": "execute_result"
    },
    {
     "data": {
      "image/png": "[encoded data removed]",
      "text/plain": [
       "<matplotlib.figure.Figure at 0x6155aa2668>"
      ]
     },
     "metadata": {},
     "output_type": "display_data"
    }
   ],
   "source": [
    "#summary calculations\n",
    "ret_1yr=px_data.groupby('Symbol')['ret_tr'].prod()-1\n",
    "std_1yr=px_data.groupby('Symbol')['ret'].std()*(255**0.5)\n",
    "n=std_1yr.index\n",
    "plt.figure(figsize=(15,10))\n",
    "plt.scatter(std_1yr, ret_1yr)#, marker=ret_1yr['Symbol'])\n",
    "for i, txt in enumerate(n):\n",
    "    plt.annotate(txt, (std_1yr[i],ret_1yr[i]))\n",
    "plt.xlabel('Annual STD')\n",
    "plt.ylabel('Annual Ret')"
   ]
  }
 ],
 "metadata": {
  "kernelspec": {
   "display_name": "Python 3",
   "language": "python",
   "name": "python3"
  },
  "language_info": {
   "codemirror_mode": {
    "name": "ipython",
    "version": 3
   },
   "file_extension": ".py",
   "mimetype": "text/x-python",
   "name": "python",
   "nbconvert_exporter": "python",
   "pygments_lexer": "ipython3",
   "version": "3.5.1"
  }
 },
 "nbformat": 4,
 "nbformat_minor": 0
}
