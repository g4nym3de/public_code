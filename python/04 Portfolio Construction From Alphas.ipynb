{
 "cells": [
  {
   "cell_type": "code",
   "execution_count": 1,
   "metadata": {
    "collapsed": false
   },
   "outputs": [],
   "source": [
    "import pandas as pd\n",
    "import numpy as np\n",
    "from pandas_datareader import data as wb\n",
    "from datetime import datetime, timedelta\n",
    "from statsmodels import regression\n",
    "import statsmodels.api as sm\n",
    "import matplotlib.pyplot as plt\n",
    "import matplotlib.pylab as pylab\n",
    "import seaborn as sns\n",
    "from scipy import stats\n",
    "import finsymbols\n",
    "import yahoo_finance\n",
    "%matplotlib inline\n",
    "params = {'legend.fontsize': 'x-large','figure.figsize': (10, 5),'axes.labelsize': 'x-large','axes.titlesize':'x-large',\n",
    "         'xtick.labelsize':'x-large','ytick.labelsize':'x-large'}#,'axes.facecolor': 'white'}\n",
    "pylab.rcParams.update(params)"
   ]
  },
  {
   "cell_type": "code",
   "execution_count": 2,
   "metadata": {
    "collapsed": true
   },
   "outputs": [],
   "source": [
    "## Helper function to get prices from Yahoo\n",
    "def get_historical_closes(ticker, start_date, end_date):\n",
    "    # get the data for the tickers.  This will be a panel\n",
    "    p = wb.DataReader(ticker, \"yahoo\", start_date, end_date)    \n",
    "    # convert the panel to a DataFrame and selection only Adj Close\n",
    "    # while making all index levels columns\n",
    "    d = p.to_frame()['Adj Close'].reset_index()\n",
    "    # rename the columns\n",
    "    d.rename(columns={'minor': 'Ticker', 'Adj Close': 'Close'}, inplace=True)\n",
    "    # pivot each ticker to a column\n",
    "    pivoted = d.pivot(index='Date', columns='Ticker')\n",
    "    # and drop the one level on the columns\n",
    "    pivoted.columns = pivoted.columns.droplevel(0)\n",
    "    return pivoted"
   ]
  },
  {
   "cell_type": "markdown",
   "metadata": {},
   "source": [
    "### Collect Data"
   ]
  },
  {
   "cell_type": "code",
   "execution_count": 131,
   "metadata": {
    "collapsed": false
   },
   "outputs": [],
   "source": [
    "#define time period\n",
    "start_date = '2015-10-31'\n",
    "end_date = '2016-10-31'\n",
    "#tickers = ['MSFT', 'AAPL', 'YHOO', 'FB', 'TSLA']\n",
    "tickers = ['IBM','MSFT', 'AAPL', 'YHOO', 'FB', 'TSLA','A','AMG','AFL','AET','AES','AAP','ADBE','AYI','ATVI','ACN','ABBV','ABT','MMM','CVX','WFC']\n",
    "\n",
    "#get data for stocks and benchmark\n",
    "port = get_historical_closes(tickers, start_date=start_date, end_date=end_date).pct_change()[1:]\n",
    "#bm = ret[['SPY']]\n",
    "bm = ret.mean(axis=1)\n",
    "n = len(tickers)\n",
    "\n",
    "# Create benchmark weights and identity matrix\n",
    "bm_w =np.empty(n); bm_w.fill(1/n)\n",
    "ones = np.ones(n)"
   ]
  },
  {
   "cell_type": "markdown",
   "metadata": {},
   "source": [
    "### Calculate Beta"
   ]
  },
  {
   "cell_type": "code",
   "execution_count": 132,
   "metadata": {
    "collapsed": false
   },
   "outputs": [
    {
     "data": {
      "text/plain": [
       "array([ 0.70765081,  0.46225019,  0.77913738,  0.53839035,  0.53141115,\n",
       "        0.67968766,  0.81396923,  0.52582996,  0.58911971,  0.41536424,\n",
       "        1.13960458,  0.88242189,  0.80874494,  0.57349752,  0.95906212,\n",
       "        0.47111732,  0.37321668,  0.82412572,  1.39638931,  0.58986581,\n",
       "        1.04128548])"
      ]
     },
     "execution_count": 132,
     "metadata": {},
     "output_type": "execute_result"
    },
    {
     "data": {
      "image/png": "[encoded data removed]",
      "text/plain": [
       "<matplotlib.figure.Figure at 0xcdb035ed68>"
      ]
     },
     "metadata": {},
     "output_type": "display_data"
    }
   ],
   "source": [
    "X = sm.add_constant(bm)             # add constant for intercept\n",
    "y = port\n",
    "model=sm.OLS(y, X)                  # regress using Benchmark as dependent\n",
    "results = model.fit()\n",
    "\n",
    "\n",
    "beta=results.params.iloc[1].values  # get all regresion coefficients\n",
    "cov=(port.cov().values*252)\n",
    "inv=np.linalg.inv(cov)\n",
    "##\n",
    "plt.hist(pd.Series(beta), bins=20, normed=True);\n",
    "plt.title('Beta Distribution')\n",
    "beta"
   ]
  },
  {
   "cell_type": "markdown",
   "metadata": {},
   "source": [
    "### Generate Benchmark Neutral Alpha"
   ]
  },
  {
   "cell_type": "code",
   "execution_count": 133,
   "metadata": {
    "collapsed": false
   },
   "outputs": [],
   "source": [
    "# Create alpha from random, sorry, this is the hardest part of the process\n",
    "# \n",
    "alpha=np.random.normal(0,0.05,n)\n",
    "# create benchmark weight array\n",
    "bm_a=alpha.dot(bm_w)\n",
    "\n",
    "neu_alpha=[]\n",
    "for i in range(0,n):\n",
    "    #neu_alpha.append(beta[i])\n",
    "    neu_alpha.append(alpha[i]-beta[i]*bm_a)\n",
    "neu_alpha=np.asarray(neu_alpha)"
   ]
  },
  {
   "cell_type": "code",
   "execution_count": 122,
   "metadata": {
    "collapsed": false
   },
   "outputs": [
    {
     "data": {
      "text/plain": [
       "array([ 0.00063161,  0.02870278,  0.04399287,  0.00655065,  0.05324564,\n",
       "        0.01483986,  0.05674541, -0.03327073,  0.04341662, -0.081964  ,\n",
       "       -0.16013454,  0.1465168 ,  0.01188988, -0.04193441,  0.0540924 ,\n",
       "        0.05771033, -0.03907935, -0.04035075,  0.07141671,  0.00900763,\n",
       "       -0.05570969])"
      ]
     },
     "execution_count": 122,
     "metadata": {},
     "output_type": "execute_result"
    }
   ],
   "source": [
    "neu_alpha"
   ]
  },
  {
   "cell_type": "markdown",
   "metadata": {
    "collapsed": true
   },
   "source": [
    "### Generate Benchmark Data"
   ]
  },
  {
   "cell_type": "code",
   "execution_count": 135,
   "metadata": {
    "collapsed": false
   },
   "outputs": [
    {
     "data": {
      "text/plain": [
       "0.17019014192814733"
      ]
     },
     "execution_count": 135,
     "metadata": {},
     "output_type": "execute_result"
    }
   ],
   "source": [
    "#create default benchmark equal weight:\n",
    "bm_w =np.empty(n); bm_w.fill(1/n)\n",
    "\n",
    "#create ones array\n",
    "ones = np.ones(n)\n",
    "\n",
    "#calculate benchmark Standard deviation\n",
    "bm_stdev=(bm_w.T.dot(cov).dot(bm_w))**.5\n",
    "bm_stdev"
   ]
  },
  {
   "cell_type": "markdown",
   "metadata": {},
   "source": [
    "### Generate unconstrained x from alpha "
   ]
  },
  {
   "cell_type": "code",
   "execution_count": 136,
   "metadata": {
    "collapsed": false
   },
   "outputs": [
    {
     "name": "stdout",
     "output_type": "stream",
     "text": [
      "Active Portfolio Return: 0.647071808535\n",
      "Active Portfolio Risk: 0.639843335387\n",
      "Information Ratio: 1.01129725473\n",
      "x alpha weights: [ 0.69572467 -0.20891162 -0.2075067  -0.93536559 -0.75557246  0.75232645\n",
      " -1.16927224 -0.08589605 -0.5606585   4.3242032  -0.74960708 -0.0527123\n",
      " -0.29904139 -0.33326664 -0.60638734 -1.40546296  0.20114785  1.67624072\n",
      "  0.71239745 -0.39283455  0.40045509]\n"
     ]
    }
   ],
   "source": [
    "# Generate unconstrained x vector\n",
    "x_a=inv.dot(neu_alpha)/(abs(ones.dot(inv).dot(neu_alpha)))\n",
    "x_a\n",
    "\n",
    "# Gener\n",
    "ret_a=x_a.dot(alpha)\n",
    "risk_a=(x_a.dot(cov).dot(x_a))**.5\n",
    "ir=ret_a/risk_a\n",
    "print('Active Portfolio Return:', ret_a)\n",
    "print('Active Portfolio Risk:', risk_a)\n",
    "print('Information Ratio:',ir)\n",
    "print('x alpha weights:',x_a)"
   ]
  },
  {
   "cell_type": "markdown",
   "metadata": {},
   "source": [
    "### Generate X_e from VCV"
   ]
  },
  {
   "cell_type": "code",
   "execution_count": 137,
   "metadata": {
    "collapsed": false
   },
   "outputs": [
    {
     "name": "stdout",
     "output_type": "stream",
     "text": [
      "Beta of x_e portfolio: 0.363740417922\n",
      "Alpha of x_e portfolio: 0.0242828722079\n",
      "Exposure vector of x_e: [ 0.03554881  0.08177416  0.09307598  0.04059654  0.04561951  0.05376135\n",
      " -0.06401914  0.01579924  0.046953    0.29419451 -0.24121701  0.00981092\n",
      " -0.02327452 -0.01046672  0.02902797  0.12531166  0.31484661  0.01363629\n",
      "  0.03987579  0.09727605  0.00186902]\n"
     ]
    }
   ],
   "source": [
    "# Generate x_e\n",
    "x_e=inv.dot(ones)/ones.T.dot(inv).dot(ones)\n",
    "\n",
    "#generate alpha_e and beta_e\n",
    "beta_e=beta.dot(x_e)\n",
    "alpha_e=neu_alpha.dot(x_e)\n",
    "\n",
    "\n",
    "print('Beta of x_e portfolio:', beta_e)\n",
    "print('Alpha of x_e portfolio:', alpha_e)\n",
    "print('Exposure vector of x_e:',x_e)"
   ]
  },
  {
   "cell_type": "code",
   "execution_count": 110,
   "metadata": {
    "collapsed": true
   },
   "outputs": [],
   "source": [
    "r_excess=0.06"
   ]
  },
  {
   "cell_type": "markdown",
   "metadata": {},
   "source": [
    "### Generate Optimal Active Risk"
   ]
  },
  {
   "cell_type": "code",
   "execution_count": 138,
   "metadata": {
    "collapsed": false
   },
   "outputs": [
    {
     "name": "stdout",
     "output_type": "stream",
     "text": [
      "Active Weights: [ 0.06573186 -0.03056741 -0.03217929 -0.09577303 -0.07883462  0.06848868\n",
      " -0.10261977 -0.00822829 -0.05983485  0.38321581 -0.03382455 -0.00403105\n",
      " -0.02317971 -0.02853571 -0.0615648  -0.15521493 -0.02625711  0.1657428\n",
      "  0.06670463 -0.05109145  0.04185278]\n",
      "Optimal Weights: [ 0.11335091  0.01705163  0.01543976 -0.04815398 -0.03121557  0.11610772\n",
      " -0.05500072  0.03939076 -0.0122158   0.43083486  0.01379449  0.043588\n",
      "  0.02443934  0.01908334 -0.01394575 -0.10759588  0.02136193  0.21336185\n",
      "  0.11432368 -0.0034724   0.08947183]\n",
      "Total Portfolio Weight 1.0\n",
      "Excess Return 0.0576561160799\n"
     ]
    }
   ],
   "source": [
    "denom=(1-beta_e)*ret_a-alpha_e\n",
    "\n",
    "#active portfolio\n",
    "w_a=[]\n",
    "for i in range(0,n):\n",
    "    w_a.append(r_excess*((1-beta_e)*x_a[i]-x_e[i]+beta_e*bm_w[i])/denom)\n",
    "w_a = np.array(w_a)\n",
    "\n",
    "# calculate optimal portfolio\n",
    "w_optimal = w_a+bm_w\n",
    "\n",
    "print('Active Weights:', w_a)\n",
    "print('Optimal Weights:', w_optimal)\n",
    "print('Total Portfolio Weight',w_optimal.sum())\n",
    "print('Excess Return',w_optimal.dot(neu_alpha).sum())"
   ]
  },
  {
   "cell_type": "code",
   "execution_count": 149,
   "metadata": {
    "collapsed": false
   },
   "outputs": [
    {
     "data": {
      "text/html": [
       "<div>\n",
       "<table border=\"1\" class=\"dataframe\">\n",
       "  <thead>\n",
       "    <tr style=\"text-align: right;\">\n",
       "      <th></th>\n",
       "      <th>id</th>\n",
       "      <th>neu_alpha</th>\n",
       "      <th>w_a</th>\n",
       "      <th>w_optimal</th>\n",
       "    </tr>\n",
       "  </thead>\n",
       "  <tbody>\n",
       "    <tr>\n",
       "      <th>15</th>\n",
       "      <td>IBM</td>\n",
       "      <td>-0.010650</td>\n",
       "      <td>-0.155215</td>\n",
       "      <td>-0.107596</td>\n",
       "    </tr>\n",
       "    <tr>\n",
       "      <th>6</th>\n",
       "      <td>ADBE</td>\n",
       "      <td>-0.035546</td>\n",
       "      <td>-0.102620</td>\n",
       "      <td>-0.055001</td>\n",
       "    </tr>\n",
       "    <tr>\n",
       "      <th>3</th>\n",
       "      <td>ABBV</td>\n",
       "      <td>-0.087077</td>\n",
       "      <td>-0.095773</td>\n",
       "      <td>-0.048154</td>\n",
       "    </tr>\n",
       "    <tr>\n",
       "      <th>4</th>\n",
       "      <td>ABT</td>\n",
       "      <td>-0.040106</td>\n",
       "      <td>-0.078835</td>\n",
       "      <td>-0.031216</td>\n",
       "    </tr>\n",
       "    <tr>\n",
       "      <th>14</th>\n",
       "      <td>FB</td>\n",
       "      <td>0.021581</td>\n",
       "      <td>-0.061565</td>\n",
       "      <td>-0.013946</td>\n",
       "    </tr>\n",
       "    <tr>\n",
       "      <th>8</th>\n",
       "      <td>AET</td>\n",
       "      <td>-0.056025</td>\n",
       "      <td>-0.059835</td>\n",
       "      <td>-0.012216</td>\n",
       "    </tr>\n",
       "    <tr>\n",
       "      <th>19</th>\n",
       "      <td>WFC</td>\n",
       "      <td>0.012613</td>\n",
       "      <td>-0.051091</td>\n",
       "      <td>-0.003472</td>\n",
       "    </tr>\n",
       "    <tr>\n",
       "      <th>10</th>\n",
       "      <td>AMG</td>\n",
       "      <td>-0.005039</td>\n",
       "      <td>-0.033825</td>\n",
       "      <td>0.013794</td>\n",
       "    </tr>\n",
       "    <tr>\n",
       "      <th>2</th>\n",
       "      <td>AAPL</td>\n",
       "      <td>-0.013897</td>\n",
       "      <td>-0.032179</td>\n",
       "      <td>0.015440</td>\n",
       "    </tr>\n",
       "    <tr>\n",
       "      <th>1</th>\n",
       "      <td>AAP</td>\n",
       "      <td>-0.022339</td>\n",
       "      <td>-0.030567</td>\n",
       "      <td>0.017052</td>\n",
       "    </tr>\n",
       "    <tr>\n",
       "      <th>13</th>\n",
       "      <td>CVX</td>\n",
       "      <td>-0.025575</td>\n",
       "      <td>-0.028536</td>\n",
       "      <td>0.019083</td>\n",
       "    </tr>\n",
       "    <tr>\n",
       "      <th>16</th>\n",
       "      <td>MMM</td>\n",
       "      <td>0.019084</td>\n",
       "      <td>-0.026257</td>\n",
       "      <td>0.021362</td>\n",
       "    </tr>\n",
       "    <tr>\n",
       "      <th>12</th>\n",
       "      <td>AYI</td>\n",
       "      <td>-0.027555</td>\n",
       "      <td>-0.023180</td>\n",
       "      <td>0.024439</td>\n",
       "    </tr>\n",
       "    <tr>\n",
       "      <th>7</th>\n",
       "      <td>AES</td>\n",
       "      <td>-0.011197</td>\n",
       "      <td>-0.008228</td>\n",
       "      <td>0.039391</td>\n",
       "    </tr>\n",
       "    <tr>\n",
       "      <th>11</th>\n",
       "      <td>ATVI</td>\n",
       "      <td>0.004510</td>\n",
       "      <td>-0.004031</td>\n",
       "      <td>0.043588</td>\n",
       "    </tr>\n",
       "    <tr>\n",
       "      <th>20</th>\n",
       "      <td>YHOO</td>\n",
       "      <td>0.034293</td>\n",
       "      <td>0.041853</td>\n",
       "      <td>0.089472</td>\n",
       "    </tr>\n",
       "    <tr>\n",
       "      <th>0</th>\n",
       "      <td>A</td>\n",
       "      <td>0.002390</td>\n",
       "      <td>0.065732</td>\n",
       "      <td>0.113351</td>\n",
       "    </tr>\n",
       "    <tr>\n",
       "      <th>18</th>\n",
       "      <td>TSLA</td>\n",
       "      <td>0.042106</td>\n",
       "      <td>0.066705</td>\n",
       "      <td>0.114324</td>\n",
       "    </tr>\n",
       "    <tr>\n",
       "      <th>5</th>\n",
       "      <td>ACN</td>\n",
       "      <td>0.037755</td>\n",
       "      <td>0.068489</td>\n",
       "      <td>0.116108</td>\n",
       "    </tr>\n",
       "    <tr>\n",
       "      <th>17</th>\n",
       "      <td>MSFT</td>\n",
       "      <td>0.038865</td>\n",
       "      <td>0.165743</td>\n",
       "      <td>0.213362</td>\n",
       "    </tr>\n",
       "    <tr>\n",
       "      <th>9</th>\n",
       "      <td>AFL</td>\n",
       "      <td>0.068715</td>\n",
       "      <td>0.383216</td>\n",
       "      <td>0.430835</td>\n",
       "    </tr>\n",
       "  </tbody>\n",
       "</table>\n",
       "</div>"
      ],
      "text/plain": [
       "      id  neu_alpha       w_a  w_optimal\n",
       "15   IBM  -0.010650 -0.155215  -0.107596\n",
       "6   ADBE  -0.035546 -0.102620  -0.055001\n",
       "3   ABBV  -0.087077 -0.095773  -0.048154\n",
       "4    ABT  -0.040106 -0.078835  -0.031216\n",
       "14    FB   0.021581 -0.061565  -0.013946\n",
       "8    AET  -0.056025 -0.059835  -0.012216\n",
       "19   WFC   0.012613 -0.051091  -0.003472\n",
       "10   AMG  -0.005039 -0.033825   0.013794\n",
       "2   AAPL  -0.013897 -0.032179   0.015440\n",
       "1    AAP  -0.022339 -0.030567   0.017052\n",
       "13   CVX  -0.025575 -0.028536   0.019083\n",
       "16   MMM   0.019084 -0.026257   0.021362\n",
       "12   AYI  -0.027555 -0.023180   0.024439\n",
       "7    AES  -0.011197 -0.008228   0.039391\n",
       "11  ATVI   0.004510 -0.004031   0.043588\n",
       "20  YHOO   0.034293  0.041853   0.089472\n",
       "0      A   0.002390  0.065732   0.113351\n",
       "18  TSLA   0.042106  0.066705   0.114324\n",
       "5    ACN   0.037755  0.068489   0.116108\n",
       "17  MSFT   0.038865  0.165743   0.213362\n",
       "9    AFL   0.068715  0.383216   0.430835"
      ]
     },
     "execution_count": 149,
     "metadata": {},
     "output_type": "execute_result"
    },
    {
     "data": {
      "image/png": "[encoded data removed]",
      "text/plain": [
       "<matplotlib.figure.Figure at 0xcdb2403080>"
      ]
     },
     "metadata": {},
     "output_type": "display_data"
    }
   ],
   "source": [
    "df_final=pd.DataFrame({'id': port.columns,\n",
    "                       'neu_alpha': neu_alpha,\n",
    "                       'w_a': w_a,\n",
    "                       'w_optimal': w_optimal\n",
    "                      })\n",
    "df_final=df_final.sort_values(by='w_a')\n",
    "ax = sns.barplot(x='id',y='w_a', data=df_final)\n",
    "df_final"
   ]
  }
 ],
 "metadata": {
  "kernelspec": {
   "display_name": "Python 3",
   "language": "python",
   "name": "python3"
  },
  "language_info": {
   "codemirror_mode": {
    "name": "ipython",
    "version": 3
   },
   "file_extension": ".py",
   "mimetype": "text/x-python",
   "name": "python",
   "nbconvert_exporter": "python",
   "pygments_lexer": "ipython3",
   "version": "3.5.1"
  }
 },
 "nbformat": 4,
 "nbformat_minor": 0
}
