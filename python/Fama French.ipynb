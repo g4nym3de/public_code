{
 "cells": [
  {
   "cell_type": "code",
   "execution_count": 16,
   "metadata": {
    "collapsed": false
   },
   "outputs": [
    {
     "name": "stdout",
     "output_type": "stream",
     "text": [
      "Populating the interactive namespace from numpy and matplotlib\n"
     ]
    },
    {
     "name": "stderr",
     "output_type": "stream",
     "text": [
      "WARNING: pylab import has clobbered these variables: ['datetime']\n",
      "`%matplotlib` prevents importing * from pylab and numpy\n"
     ]
    }
   ],
   "source": [
    "import pandas as pd\n",
    "import numpy as np\n",
    "from io import StringIO\n",
    "from zipfile import ZipFile\n",
    "from urllib.request import urlopen\n",
    "import pandas.io.data as web\n",
    "from datetime import datetime, timedelta\n",
    "import statsmodels.api as sm\n",
    "import matplotlib.pyplot as plt\n",
    "import seaborn as sns\n",
    "%pylab inline\n",
    "#https://github.com/nakulnayyar/FF3Factor/blob/master/FamaFrench3Factor.ipynb"
   ]
  },
  {
   "cell_type": "code",
   "execution_count": 27,
   "metadata": {
    "collapsed": false
   },
   "outputs": [
    {
     "data": {
      "text/html": [
       "<div>\n",
       "<table border=\"1\" class=\"dataframe\">\n",
       "  <thead>\n",
       "    <tr style=\"text-align: right;\">\n",
       "      <th></th>\n",
       "      <th>MKT-RF</th>\n",
       "      <th>SMB</th>\n",
       "      <th>HML</th>\n",
       "      <th>RF</th>\n",
       "    </tr>\n",
       "  </thead>\n",
       "  <tbody>\n",
       "    <tr>\n",
       "      <th>2015-08</th>\n",
       "      <td>-6.04</td>\n",
       "      <td>0.52</td>\n",
       "      <td>2.71</td>\n",
       "      <td>0.00</td>\n",
       "    </tr>\n",
       "    <tr>\n",
       "      <th>2015-09</th>\n",
       "      <td>-3.07</td>\n",
       "      <td>-2.61</td>\n",
       "      <td>0.58</td>\n",
       "      <td>0.00</td>\n",
       "    </tr>\n",
       "    <tr>\n",
       "      <th>2015-10</th>\n",
       "      <td>7.75</td>\n",
       "      <td>-1.93</td>\n",
       "      <td>-0.11</td>\n",
       "      <td>0.00</td>\n",
       "    </tr>\n",
       "    <tr>\n",
       "      <th>2015-11</th>\n",
       "      <td>0.56</td>\n",
       "      <td>3.62</td>\n",
       "      <td>-0.57</td>\n",
       "      <td>0.00</td>\n",
       "    </tr>\n",
       "    <tr>\n",
       "      <th>2015-12</th>\n",
       "      <td>-2.17</td>\n",
       "      <td>-2.81</td>\n",
       "      <td>-2.46</td>\n",
       "      <td>0.01</td>\n",
       "    </tr>\n",
       "  </tbody>\n",
       "</table>\n",
       "</div>"
      ],
      "text/plain": [
       "         MKT-RF   SMB   HML    RF\n",
       "2015-08   -6.04  0.52  2.71  0.00\n",
       "2015-09   -3.07 -2.61  0.58  0.00\n",
       "2015-10    7.75 -1.93 -0.11  0.00\n",
       "2015-11    0.56  3.62 -0.57  0.00\n",
       "2015-12   -2.17 -2.81 -2.46  0.01"
      ]
     },
     "execution_count": 27,
     "metadata": {},
     "output_type": "execute_result"
    }
   ],
   "source": [
    "#url = urlopen(\"http://mba.tuck.dartmouth.edu/pages/faculty/ken.french/ftp/F-F_Research_Data_Factors_CSV.zip\")\n",
    "\n",
    "#Download Zipfile and create pandas DataFrame\n",
    "#zipfile = ZipFile(StringIO(url.read()))\n",
    "FFdata = pd.read_csv('C:/Users/ywu/Downloads/F-F_Research_Data_Factors.CSV', header = 0, names = ['Date','MKT-RF','SMB','HML','RF'], skiprows=3)\n",
    "#Drop last row of data - String\n",
    "FFdata = FFdata[:1074]\n",
    "\n",
    "#Convert YYYYMM into Date\n",
    "FFdata['Date'] = pd.to_datetime(FFdata['Date'], format = \"%Y%m\")\n",
    "FFdata.index = FFdata['Date']\n",
    "FFdata.drop(FFdata.columns[0], axis=1,inplace=True)\n",
    "\n",
    "#Drop Days in YYYY-MM-DD\n",
    "FFdata.index = FFdata.index.map(lambda x: x.strftime('%Y-%m'))\n",
    "\n",
    "#Convert into float\n",
    "FFdata = FFdata.astype('float')\n",
    "FFdata.tail()"
   ]
  },
  {
   "cell_type": "code",
   "execution_count": 33,
   "metadata": {
    "collapsed": false
   },
   "outputs": [
    {
     "data": {
      "text/html": [
       "<div>\n",
       "<table border=\"1\" class=\"dataframe\">\n",
       "  <thead>\n",
       "    <tr style=\"text-align: right;\">\n",
       "      <th></th>\n",
       "      <th>Adj Close</th>\n",
       "      <th>LnReturn</th>\n",
       "    </tr>\n",
       "  </thead>\n",
       "  <tbody>\n",
       "    <tr>\n",
       "      <th>2010-12</th>\n",
       "      <td>9.426213</td>\n",
       "      <td>NaN</td>\n",
       "    </tr>\n",
       "    <tr>\n",
       "      <th>2011-01</th>\n",
       "      <td>9.557704</td>\n",
       "      <td>0.013853</td>\n",
       "    </tr>\n",
       "    <tr>\n",
       "      <th>2011-02</th>\n",
       "      <td>9.911084</td>\n",
       "      <td>0.036306</td>\n",
       "    </tr>\n",
       "    <tr>\n",
       "      <th>2011-03</th>\n",
       "      <td>9.607013</td>\n",
       "      <td>-0.031160</td>\n",
       "    </tr>\n",
       "    <tr>\n",
       "      <th>2011-04</th>\n",
       "      <td>10.100101</td>\n",
       "      <td>0.050052</td>\n",
       "    </tr>\n",
       "  </tbody>\n",
       "</table>\n",
       "</div>"
      ],
      "text/plain": [
       "         Adj Close  LnReturn\n",
       "2010-12   9.426213       NaN\n",
       "2011-01   9.557704  0.013853\n",
       "2011-02   9.911084  0.036306\n",
       "2011-03   9.607013 -0.031160\n",
       "2011-04  10.100101  0.050052"
      ]
     },
     "execution_count": 33,
     "metadata": {},
     "output_type": "execute_result"
    }
   ],
   "source": [
    "#Get Data from Yahoo\n",
    "start = '20101231'\n",
    "end = '20161125'\n",
    "\n",
    "f = web.get_data_yahoo(\"IMSSX\", start, end, interval='m')\n",
    "\n",
    "#Delete Columns\n",
    "f.drop(f.columns[[0,1,2,3,4]], axis=1, inplace=True)\n",
    "#Fix Date Column\n",
    "f.index = f.index.map(lambda x: x.strftime('%Y-%m'))\n",
    "#Ln Return\n",
    "f['LnReturn'] = np.log(f['Adj Close']) - np.log(f['Adj Close'].shift(1))\n",
    "f.head()"
   ]
  },
  {
   "cell_type": "code",
   "execution_count": 34,
   "metadata": {
    "collapsed": false
   },
   "outputs": [
    {
     "data": {
      "text/html": [
       "<div>\n",
       "<table border=\"1\" class=\"dataframe\">\n",
       "  <thead>\n",
       "    <tr style=\"text-align: right;\">\n",
       "      <th></th>\n",
       "      <th>Adj Close</th>\n",
       "      <th>LnReturn</th>\n",
       "      <th>MKT-RF</th>\n",
       "      <th>SMB</th>\n",
       "      <th>HML</th>\n",
       "      <th>RF</th>\n",
       "      <th>XRtrn</th>\n",
       "    </tr>\n",
       "  </thead>\n",
       "  <tbody>\n",
       "    <tr>\n",
       "      <th>2015-08</th>\n",
       "      <td>10.793571</td>\n",
       "      <td>-0.080675</td>\n",
       "      <td>-6.04</td>\n",
       "      <td>0.52</td>\n",
       "      <td>2.71</td>\n",
       "      <td>0.00</td>\n",
       "      <td>-8.067474</td>\n",
       "    </tr>\n",
       "    <tr>\n",
       "      <th>2015-09</th>\n",
       "      <td>10.202143</td>\n",
       "      <td>-0.056353</td>\n",
       "      <td>-3.07</td>\n",
       "      <td>-2.61</td>\n",
       "      <td>0.58</td>\n",
       "      <td>0.00</td>\n",
       "      <td>-5.635288</td>\n",
       "    </tr>\n",
       "    <tr>\n",
       "      <th>2015-10</th>\n",
       "      <td>10.931571</td>\n",
       "      <td>0.069057</td>\n",
       "      <td>7.75</td>\n",
       "      <td>-1.93</td>\n",
       "      <td>-0.11</td>\n",
       "      <td>0.00</td>\n",
       "      <td>6.905723</td>\n",
       "    </tr>\n",
       "    <tr>\n",
       "      <th>2015-11</th>\n",
       "      <td>10.892142</td>\n",
       "      <td>-0.003613</td>\n",
       "      <td>0.56</td>\n",
       "      <td>3.62</td>\n",
       "      <td>-0.57</td>\n",
       "      <td>0.00</td>\n",
       "      <td>-0.361341</td>\n",
       "    </tr>\n",
       "    <tr>\n",
       "      <th>2015-12</th>\n",
       "      <td>10.790000</td>\n",
       "      <td>-0.009422</td>\n",
       "      <td>-2.17</td>\n",
       "      <td>-2.81</td>\n",
       "      <td>-2.46</td>\n",
       "      <td>0.01</td>\n",
       "      <td>-0.952183</td>\n",
       "    </tr>\n",
       "  </tbody>\n",
       "</table>\n",
       "</div>"
      ],
      "text/plain": [
       "         Adj Close  LnReturn  MKT-RF   SMB   HML    RF     XRtrn\n",
       "2015-08  10.793571 -0.080675   -6.04  0.52  2.71  0.00 -8.067474\n",
       "2015-09  10.202143 -0.056353   -3.07 -2.61  0.58  0.00 -5.635288\n",
       "2015-10  10.931571  0.069057    7.75 -1.93 -0.11  0.00  6.905723\n",
       "2015-11  10.892142 -0.003613    0.56  3.62 -0.57  0.00 -0.361341\n",
       "2015-12  10.790000 -0.009422   -2.17 -2.81 -2.46  0.01 -0.952183"
      ]
     },
     "execution_count": 34,
     "metadata": {},
     "output_type": "execute_result"
    }
   ],
   "source": [
    "#Merge DF\n",
    "data2 = pd.concat([f,FFdata], axis = 1)\n",
    "\n",
    "#Excess Return\n",
    "data2['XRtrn'] = (data2['LnReturn']*100 - data2['RF'])\n",
    "#Align Data\n",
    "df = data2[np.isfinite(data2['XRtrn'])]\n",
    "\n",
    "df.tail()\n"
   ]
  },
  {
   "cell_type": "code",
   "execution_count": 38,
   "metadata": {
    "collapsed": false
   },
   "outputs": [
    {
     "data": {
      "text/html": [
       "<div>\n",
       "<table border=\"1\" class=\"dataframe\">\n",
       "  <thead>\n",
       "    <tr style=\"text-align: right;\">\n",
       "      <th></th>\n",
       "      <th>Adj Close</th>\n",
       "      <th>LnReturn</th>\n",
       "      <th>MKT-RF</th>\n",
       "      <th>SMB</th>\n",
       "      <th>HML</th>\n",
       "      <th>RF</th>\n",
       "      <th>XRtrn</th>\n",
       "    </tr>\n",
       "  </thead>\n",
       "  <tbody>\n",
       "    <tr>\n",
       "      <th>1926-07</th>\n",
       "      <td>NaN</td>\n",
       "      <td>NaN</td>\n",
       "      <td>2.96</td>\n",
       "      <td>-2.30</td>\n",
       "      <td>-2.87</td>\n",
       "      <td>0.22</td>\n",
       "      <td>NaN</td>\n",
       "    </tr>\n",
       "    <tr>\n",
       "      <th>1926-08</th>\n",
       "      <td>NaN</td>\n",
       "      <td>NaN</td>\n",
       "      <td>2.64</td>\n",
       "      <td>-1.40</td>\n",
       "      <td>4.19</td>\n",
       "      <td>0.25</td>\n",
       "      <td>NaN</td>\n",
       "    </tr>\n",
       "    <tr>\n",
       "      <th>1926-09</th>\n",
       "      <td>NaN</td>\n",
       "      <td>NaN</td>\n",
       "      <td>0.36</td>\n",
       "      <td>-1.32</td>\n",
       "      <td>0.01</td>\n",
       "      <td>0.23</td>\n",
       "      <td>NaN</td>\n",
       "    </tr>\n",
       "    <tr>\n",
       "      <th>1926-10</th>\n",
       "      <td>NaN</td>\n",
       "      <td>NaN</td>\n",
       "      <td>-3.24</td>\n",
       "      <td>0.04</td>\n",
       "      <td>0.51</td>\n",
       "      <td>0.32</td>\n",
       "      <td>NaN</td>\n",
       "    </tr>\n",
       "    <tr>\n",
       "      <th>1926-11</th>\n",
       "      <td>NaN</td>\n",
       "      <td>NaN</td>\n",
       "      <td>2.53</td>\n",
       "      <td>-0.20</td>\n",
       "      <td>-0.35</td>\n",
       "      <td>0.31</td>\n",
       "      <td>NaN</td>\n",
       "    </tr>\n",
       "  </tbody>\n",
       "</table>\n",
       "</div>"
      ],
      "text/plain": [
       "         Adj Close  LnReturn  MKT-RF   SMB   HML    RF  XRtrn\n",
       "1926-07        NaN       NaN    2.96 -2.30 -2.87  0.22    NaN\n",
       "1926-08        NaN       NaN    2.64 -1.40  4.19  0.25    NaN\n",
       "1926-09        NaN       NaN    0.36 -1.32  0.01  0.23    NaN\n",
       "1926-10        NaN       NaN   -3.24  0.04  0.51  0.32    NaN\n",
       "1926-11        NaN       NaN    2.53 -0.20 -0.35  0.31    NaN"
      ]
     },
     "execution_count": 38,
     "metadata": {},
     "output_type": "execute_result"
    }
   ],
   "source": [
    "data2.head(5)"
   ]
  },
  {
   "cell_type": "code",
   "execution_count": 39,
   "metadata": {
    "collapsed": false
   },
   "outputs": [
    {
     "data": {
      "text/plain": [
       "1926-07    False\n",
       "1926-08    False\n",
       "1926-09    False\n",
       "1926-10    False\n",
       "1926-11    False\n",
       "1926-12    False\n",
       "1927-01    False\n",
       "1927-02    False\n",
       "1927-03    False\n",
       "1927-04    False\n",
       "1927-05    False\n",
       "1927-06    False\n",
       "1927-07    False\n",
       "1927-08    False\n",
       "1927-09    False\n",
       "1927-10    False\n",
       "1927-11    False\n",
       "1927-12    False\n",
       "1928-01    False\n",
       "1928-02    False\n",
       "1928-03    False\n",
       "1928-04    False\n",
       "1928-05    False\n",
       "1928-06    False\n",
       "1928-07    False\n",
       "1928-08    False\n",
       "1928-09    False\n",
       "1928-10    False\n",
       "1928-11    False\n",
       "1928-12    False\n",
       "           ...  \n",
       "2014-06     True\n",
       "2014-07     True\n",
       "2014-08     True\n",
       "2014-09     True\n",
       "2014-10     True\n",
       "2014-11     True\n",
       "2014-12     True\n",
       "2015-01     True\n",
       "2015-02     True\n",
       "2015-03     True\n",
       "2015-04     True\n",
       "2015-05     True\n",
       "2015-06     True\n",
       "2015-07     True\n",
       "2015-08     True\n",
       "2015-09     True\n",
       "2015-10     True\n",
       "2015-11     True\n",
       "2015-12     True\n",
       "2016-01    False\n",
       "2016-02    False\n",
       "2016-03    False\n",
       "2016-04    False\n",
       "2016-05    False\n",
       "2016-06    False\n",
       "2016-07    False\n",
       "2016-08    False\n",
       "2016-09    False\n",
       "2016-10    False\n",
       "2016-11    False\n",
       "Name: XRtrn, dtype: bool"
      ]
     },
     "execution_count": 39,
     "metadata": {},
     "output_type": "execute_result"
    }
   ],
   "source": [
    "np.isfinite(data2['XRtrn'])"
   ]
  },
  {
   "cell_type": "code",
   "execution_count": 31,
   "metadata": {
    "collapsed": false
   },
   "outputs": [
    {
     "name": "stdout",
     "output_type": "stream",
     "text": [
      "                            OLS Regression Results                            \n",
      "==============================================================================\n",
      "Dep. Variable:                  XRtrn   R-squared:                       0.666\n",
      "Model:                            OLS   Adj. R-squared:                  0.663\n",
      "Method:                 Least Squares   F-statistic:                     177.0\n",
      "Date:                Fri, 18 Nov 2016   Prob (F-statistic):           4.34e-63\n",
      "Time:                        12:21:09   Log-Likelihood:                -572.91\n",
      "No. Observations:                 270   AIC:                             1154.\n",
      "Df Residuals:                     266   BIC:                             1168.\n",
      "Df Model:                           3                                         \n",
      "Covariance Type:            nonrobust                                         \n",
      "==============================================================================\n",
      "                 coef    std err          t      P>|t|      [95.0% Conf. Int.]\n",
      "------------------------------------------------------------------------------\n",
      "const          0.0894      0.126      0.712      0.477        -0.158     0.337\n",
      "MKT-RF         0.6500      0.029     22.308      0.000         0.593     0.707\n",
      "SMB            0.0636      0.040      1.611      0.108        -0.014     0.141\n",
      "HML            0.2374      0.043      5.537      0.000         0.153     0.322\n",
      "==============================================================================\n",
      "Omnibus:                        9.046   Durbin-Watson:                   1.771\n",
      "Prob(Omnibus):                  0.011   Jarque-Bera (JB):               15.426\n",
      "Skew:                          -0.135   Prob(JB):                     0.000447\n",
      "Kurtosis:                       4.140   Cond. No.                         4.68\n",
      "==============================================================================\n",
      "\n",
      "Warnings:\n",
      "[1] Standard Errors assume that the covariance matrix of the errors is correctly specified.\n"
     ]
    }
   ],
   "source": [
    "#df = data2[np.isfinite(data2['XRtrn'])]\n",
    "\n",
    "y = df['XRtrn']\n",
    "X = df.ix[:,[2,3,4]]\n",
    "X = sm.add_constant(X)\n",
    "\n",
    "\n",
    "model = sm.OLS(y, X)\n",
    "results = model.fit()\n",
    "print(results.summary())"
   ]
  },
  {
   "cell_type": "code",
   "execution_count": 32,
   "metadata": {
    "collapsed": false
   },
   "outputs": [
    {
     "data": {
      "image/png": "[encoded data removed]",
      "text/plain": [
       "<matplotlib.figure.Figure at 0x122828b278>"
      ]
     },
     "metadata": {},
     "output_type": "display_data"
    }
   ],
   "source": [
    "\n",
    "fig = plt.figure(figsize=(12,8))\n",
    "fig = sm.graphics.plot_partregress_grid(results, fig = fig)\n",
    "plt.show()\n",
    "\n",
    "#sns.lmplot(x=\"MKT-RF\", y=\"XRtrn\", data=data2)"
   ]
  }
 ],
 "metadata": {
  "kernelspec": {
   "display_name": "Python 3",
   "language": "python",
   "name": "python3"
  },
  "language_info": {
   "codemirror_mode": {
    "name": "ipython",
    "version": 3
   },
   "file_extension": ".py",
   "mimetype": "text/x-python",
   "name": "python",
   "nbconvert_exporter": "python",
   "pygments_lexer": "ipython3",
   "version": "3.5.1"
  }
 },
 "nbformat": 4,
 "nbformat_minor": 0
}
